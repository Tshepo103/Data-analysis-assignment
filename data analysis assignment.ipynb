{
 "cells": [
  {
   "cell_type": "markdown",
   "id": "0ea01342-971a-4cd2-a3f0-25cd66c7dbfe",
   "metadata": {},
   "source": [
    "# DATA PREPARATION (15 MARKS)"
   ]
  },
  {
   "cell_type": "code",
   "execution_count": 5,
   "id": "8203f875-fd20-41fa-b788-1342f0f3bf77",
   "metadata": {},
   "outputs": [],
   "source": [
    "\n",
    "import pandas as pd \n",
    "\n",
    "forest_df = pd.read_csv(r\"C:\\Users\\Admin\\Desktop\\Data analysis assignment\\Forest area.csv\",header=0)\n",
    "water_df = pd.read_csv(r\"C:\\Users\\Admin\\Desktop\\Data analysis assignment\\Freshwater withdrawals.csv\",header=0)"
   ]
  },
  {
   "cell_type": "code",
   "execution_count": 7,
   "id": "b806fb7a-3dd1-468e-a42e-b80c1f72d5dc",
   "metadata": {},
   "outputs": [
    {
     "data": {
      "text/html": [
       "<div>\n",
       "<style scoped>\n",
       "    .dataframe tbody tr th:only-of-type {\n",
       "        vertical-align: middle;\n",
       "    }\n",
       "\n",
       "    .dataframe tbody tr th {\n",
       "        vertical-align: top;\n",
       "    }\n",
       "\n",
       "    .dataframe thead th {\n",
       "        text-align: right;\n",
       "    }\n",
       "</style>\n",
       "<table border=\"1\" class=\"dataframe\">\n",
       "  <thead>\n",
       "    <tr style=\"text-align: right;\">\n",
       "      <th></th>\n",
       "      <th>STRUCTURE</th>\n",
       "      <th>STRUCTURE_ID</th>\n",
       "      <th>ACTION</th>\n",
       "      <th>FREQ</th>\n",
       "      <th>FREQ_LABEL</th>\n",
       "      <th>REF_AREA</th>\n",
       "      <th>REF_AREA_LABEL</th>\n",
       "      <th>INDICATOR</th>\n",
       "      <th>INDICATOR_LABEL</th>\n",
       "      <th>SEX</th>\n",
       "      <th>...</th>\n",
       "      <th>DATA_SOURCE_LABEL</th>\n",
       "      <th>UNIT_TYPE</th>\n",
       "      <th>UNIT_TYPE_LABEL</th>\n",
       "      <th>TIME_FORMAT</th>\n",
       "      <th>TIME_FORMAT_LABEL</th>\n",
       "      <th>COMMENT_OBS</th>\n",
       "      <th>OBS_STATUS</th>\n",
       "      <th>OBS_STATUS_LABEL</th>\n",
       "      <th>OBS_CONF</th>\n",
       "      <th>OBS_CONF_LABEL</th>\n",
       "    </tr>\n",
       "  </thead>\n",
       "  <tbody>\n",
       "    <tr>\n",
       "      <th>0</th>\n",
       "      <td>datastructure</td>\n",
       "      <td>WB.DATA360:DS_DATA360(1.3)</td>\n",
       "      <td>I</td>\n",
       "      <td>A</td>\n",
       "      <td>Annual</td>\n",
       "      <td>BRB</td>\n",
       "      <td>Barbados</td>\n",
       "      <td>WB_WDI_ER_H2O_FWTL_ZS</td>\n",
       "      <td>Annual freshwater withdrawals, total (% of int...</td>\n",
       "      <td>_T</td>\n",
       "      <td>...</td>\n",
       "      <td>World Development Indicators (WDI)</td>\n",
       "      <td>RATIO</td>\n",
       "      <td>Ratio</td>\n",
       "      <td>P1Y</td>\n",
       "      <td>Annual</td>\n",
       "      <td>NaN</td>\n",
       "      <td>A</td>\n",
       "      <td>Normal value</td>\n",
       "      <td>PU</td>\n",
       "      <td>Public</td>\n",
       "    </tr>\n",
       "    <tr>\n",
       "      <th>1</th>\n",
       "      <td>datastructure</td>\n",
       "      <td>WB.DATA360:DS_DATA360(1.3)</td>\n",
       "      <td>I</td>\n",
       "      <td>A</td>\n",
       "      <td>Annual</td>\n",
       "      <td>BRB</td>\n",
       "      <td>Barbados</td>\n",
       "      <td>WB_WDI_ER_H2O_FWTL_ZS</td>\n",
       "      <td>Annual freshwater withdrawals, total (% of int...</td>\n",
       "      <td>_T</td>\n",
       "      <td>...</td>\n",
       "      <td>World Development Indicators (WDI)</td>\n",
       "      <td>RATIO</td>\n",
       "      <td>Ratio</td>\n",
       "      <td>P1Y</td>\n",
       "      <td>Annual</td>\n",
       "      <td>NaN</td>\n",
       "      <td>A</td>\n",
       "      <td>Normal value</td>\n",
       "      <td>PU</td>\n",
       "      <td>Public</td>\n",
       "    </tr>\n",
       "    <tr>\n",
       "      <th>2</th>\n",
       "      <td>datastructure</td>\n",
       "      <td>WB.DATA360:DS_DATA360(1.3)</td>\n",
       "      <td>I</td>\n",
       "      <td>A</td>\n",
       "      <td>Annual</td>\n",
       "      <td>BRB</td>\n",
       "      <td>Barbados</td>\n",
       "      <td>WB_WDI_ER_H2O_FWTL_ZS</td>\n",
       "      <td>Annual freshwater withdrawals, total (% of int...</td>\n",
       "      <td>_T</td>\n",
       "      <td>...</td>\n",
       "      <td>World Development Indicators (WDI)</td>\n",
       "      <td>RATIO</td>\n",
       "      <td>Ratio</td>\n",
       "      <td>P1Y</td>\n",
       "      <td>Annual</td>\n",
       "      <td>NaN</td>\n",
       "      <td>A</td>\n",
       "      <td>Normal value</td>\n",
       "      <td>PU</td>\n",
       "      <td>Public</td>\n",
       "    </tr>\n",
       "    <tr>\n",
       "      <th>3</th>\n",
       "      <td>datastructure</td>\n",
       "      <td>WB.DATA360:DS_DATA360(1.3)</td>\n",
       "      <td>I</td>\n",
       "      <td>A</td>\n",
       "      <td>Annual</td>\n",
       "      <td>BRB</td>\n",
       "      <td>Barbados</td>\n",
       "      <td>WB_WDI_ER_H2O_FWTL_ZS</td>\n",
       "      <td>Annual freshwater withdrawals, total (% of int...</td>\n",
       "      <td>_T</td>\n",
       "      <td>...</td>\n",
       "      <td>World Development Indicators (WDI)</td>\n",
       "      <td>RATIO</td>\n",
       "      <td>Ratio</td>\n",
       "      <td>P1Y</td>\n",
       "      <td>Annual</td>\n",
       "      <td>NaN</td>\n",
       "      <td>A</td>\n",
       "      <td>Normal value</td>\n",
       "      <td>PU</td>\n",
       "      <td>Public</td>\n",
       "    </tr>\n",
       "    <tr>\n",
       "      <th>4</th>\n",
       "      <td>datastructure</td>\n",
       "      <td>WB.DATA360:DS_DATA360(1.3)</td>\n",
       "      <td>I</td>\n",
       "      <td>A</td>\n",
       "      <td>Annual</td>\n",
       "      <td>URY</td>\n",
       "      <td>Uruguay</td>\n",
       "      <td>WB_WDI_ER_H2O_FWTL_ZS</td>\n",
       "      <td>Annual freshwater withdrawals, total (% of int...</td>\n",
       "      <td>_T</td>\n",
       "      <td>...</td>\n",
       "      <td>World Development Indicators (WDI)</td>\n",
       "      <td>RATIO</td>\n",
       "      <td>Ratio</td>\n",
       "      <td>P1Y</td>\n",
       "      <td>Annual</td>\n",
       "      <td>NaN</td>\n",
       "      <td>A</td>\n",
       "      <td>Normal value</td>\n",
       "      <td>PU</td>\n",
       "      <td>Public</td>\n",
       "    </tr>\n",
       "  </tbody>\n",
       "</table>\n",
       "<p>5 rows × 45 columns</p>\n",
       "</div>"
      ],
      "text/plain": [
       "       STRUCTURE                STRUCTURE_ID ACTION FREQ FREQ_LABEL REF_AREA  \\\n",
       "0  datastructure  WB.DATA360:DS_DATA360(1.3)      I    A     Annual      BRB   \n",
       "1  datastructure  WB.DATA360:DS_DATA360(1.3)      I    A     Annual      BRB   \n",
       "2  datastructure  WB.DATA360:DS_DATA360(1.3)      I    A     Annual      BRB   \n",
       "3  datastructure  WB.DATA360:DS_DATA360(1.3)      I    A     Annual      BRB   \n",
       "4  datastructure  WB.DATA360:DS_DATA360(1.3)      I    A     Annual      URY   \n",
       "\n",
       "  REF_AREA_LABEL              INDICATOR  \\\n",
       "0       Barbados  WB_WDI_ER_H2O_FWTL_ZS   \n",
       "1       Barbados  WB_WDI_ER_H2O_FWTL_ZS   \n",
       "2       Barbados  WB_WDI_ER_H2O_FWTL_ZS   \n",
       "3       Barbados  WB_WDI_ER_H2O_FWTL_ZS   \n",
       "4        Uruguay  WB_WDI_ER_H2O_FWTL_ZS   \n",
       "\n",
       "                                     INDICATOR_LABEL SEX  ...  \\\n",
       "0  Annual freshwater withdrawals, total (% of int...  _T  ...   \n",
       "1  Annual freshwater withdrawals, total (% of int...  _T  ...   \n",
       "2  Annual freshwater withdrawals, total (% of int...  _T  ...   \n",
       "3  Annual freshwater withdrawals, total (% of int...  _T  ...   \n",
       "4  Annual freshwater withdrawals, total (% of int...  _T  ...   \n",
       "\n",
       "                    DATA_SOURCE_LABEL UNIT_TYPE UNIT_TYPE_LABEL TIME_FORMAT  \\\n",
       "0  World Development Indicators (WDI)     RATIO           Ratio         P1Y   \n",
       "1  World Development Indicators (WDI)     RATIO           Ratio         P1Y   \n",
       "2  World Development Indicators (WDI)     RATIO           Ratio         P1Y   \n",
       "3  World Development Indicators (WDI)     RATIO           Ratio         P1Y   \n",
       "4  World Development Indicators (WDI)     RATIO           Ratio         P1Y   \n",
       "\n",
       "  TIME_FORMAT_LABEL COMMENT_OBS OBS_STATUS OBS_STATUS_LABEL OBS_CONF  \\\n",
       "0            Annual         NaN          A     Normal value       PU   \n",
       "1            Annual         NaN          A     Normal value       PU   \n",
       "2            Annual         NaN          A     Normal value       PU   \n",
       "3            Annual         NaN          A     Normal value       PU   \n",
       "4            Annual         NaN          A     Normal value       PU   \n",
       "\n",
       "  OBS_CONF_LABEL  \n",
       "0         Public  \n",
       "1         Public  \n",
       "2         Public  \n",
       "3         Public  \n",
       "4         Public  \n",
       "\n",
       "[5 rows x 45 columns]"
      ]
     },
     "execution_count": 7,
     "metadata": {},
     "output_type": "execute_result"
    }
   ],
   "source": [
    "\n",
    "forest_df.head()\n",
    "water_df.head()"
   ]
  },
  {
   "cell_type": "markdown",
   "id": "4c11ccbf-9066-45db-9874-c35bfd44ced4",
   "metadata": {},
   "source": [
    "\n",
    "forest_df.info()\n",
    "water_df.info()"
   ]
  },
  {
   "cell_type": "markdown",
   "id": "9dfb3c9a-3280-448b-b62c-4404fc4aa659",
   "metadata": {},
   "source": [
    "\n",
    "forest_df.isnull().sum()\n",
    "water_df.isnull().sum()"
   ]
  },
  {
   "cell_type": "markdown",
   "id": "ed1b1483-7658-44cd-90d6-3e876e8088f6",
   "metadata": {},
   "source": [
    "\n",
    "pd.melt(forest_df)\n",
    "pd.melt(water_df)"
   ]
  },
  {
   "cell_type": "code",
   "execution_count": 24,
   "id": "1b0b2a07-9285-41c7-bc9e-dabddbad044e",
   "metadata": {},
   "outputs": [
    {
     "name": "stdout",
     "output_type": "stream",
     "text": [
      "          STRUCTURE                STRUCTURE_ID ACTION FREQ FREQ_LABEL  \\\n",
      "183   datastructure  WB.DATA360:DS_DATA360(1.3)      I    A     Annual   \n",
      "403   datastructure  WB.DATA360:DS_DATA360(1.3)      I    A     Annual   \n",
      "648   datastructure  WB.DATA360:DS_DATA360(1.3)      I    A     Annual   \n",
      "901   datastructure  WB.DATA360:DS_DATA360(1.3)      I    A     Annual   \n",
      "1154  datastructure  WB.DATA360:DS_DATA360(1.3)      I    A     Annual   \n",
      "\n",
      "     REF_AREA REF_AREA_LABEL              INDICATOR  \\\n",
      "183       ZAF   South Africa  WB_WDI_AG_LND_FRST_ZS   \n",
      "403       ZAF   South Africa  WB_WDI_AG_LND_FRST_ZS   \n",
      "648       ZAF   South Africa  WB_WDI_AG_LND_FRST_ZS   \n",
      "901       ZAF   South Africa  WB_WDI_AG_LND_FRST_ZS   \n",
      "1154      ZAF   South Africa  WB_WDI_AG_LND_FRST_ZS   \n",
      "\n",
      "                   INDICATOR_LABEL SEX  ...  \\\n",
      "183   Forest area (% of land area)  _T  ...   \n",
      "403   Forest area (% of land area)  _T  ...   \n",
      "648   Forest area (% of land area)  _T  ...   \n",
      "901   Forest area (% of land area)  _T  ...   \n",
      "1154  Forest area (% of land area)  _T  ...   \n",
      "\n",
      "                       DATA_SOURCE_LABEL UNIT_TYPE UNIT_TYPE_LABEL  \\\n",
      "183   World Development Indicators (WDI)     RATIO           Ratio   \n",
      "403   World Development Indicators (WDI)     RATIO           Ratio   \n",
      "648   World Development Indicators (WDI)     RATIO           Ratio   \n",
      "901   World Development Indicators (WDI)     RATIO           Ratio   \n",
      "1154  World Development Indicators (WDI)     RATIO           Ratio   \n",
      "\n",
      "     TIME_FORMAT TIME_FORMAT_LABEL COMMENT_OBS OBS_STATUS OBS_STATUS_LABEL  \\\n",
      "183          P1Y            Annual         NaN          A     Normal value   \n",
      "403          P1Y            Annual         NaN          A     Normal value   \n",
      "648          P1Y            Annual         NaN          A     Normal value   \n",
      "901          P1Y            Annual         NaN          A     Normal value   \n",
      "1154         P1Y            Annual         NaN          A     Normal value   \n",
      "\n",
      "     OBS_CONF OBS_CONF_LABEL  \n",
      "183        PU         Public  \n",
      "403        PU         Public  \n",
      "648        PU         Public  \n",
      "901        PU         Public  \n",
      "1154       PU         Public  \n",
      "\n",
      "[5 rows x 45 columns]\n"
     ]
    }
   ],
   "source": [
    "south_africa_forest = forest_df[forest_df['REF_AREA_LABEL'] == 'South Africa']\n",
    "print(south_africa_forest.head())"
   ]
  },
  {
   "cell_type": "code",
   "execution_count": null,
   "id": "a69739f2-b956-4e21-8eda-ac510b966091",
   "metadata": {},
   "outputs": [],
   "source": [
    "south_africa_water = water_df[water_df['REF_AREA_LABEL'] == 'South Africa']\n",
    "print(south_africa_water.head())"
   ]
  },
  {
   "cell_type": "code",
   "execution_count": 26,
   "id": "851a07bc-8726-42b1-9776-b0826d0b1c18",
   "metadata": {},
   "outputs": [
    {
     "name": "stdout",
     "output_type": "stream",
     "text": [
      "183     South Africa\n",
      "403     South Africa\n",
      "648     South Africa\n",
      "901     South Africa\n",
      "1154    South Africa\n",
      "Name: REF_AREA_LABEL, dtype: object\n"
     ]
    }
   ],
   "source": [
    "print(south_africa_forest['REF_AREA_LABEL'].head())"
   ]
  },
  {
   "cell_type": "code",
   "execution_count": 20,
   "id": "c38bd5cd-609d-4205-8326-0a972db4ee4f",
   "metadata": {},
   "outputs": [
    {
     "name": "stdout",
     "output_type": "stream",
     "text": [
      "1022    South Africa\n",
      "1131    South Africa\n",
      "1249    South Africa\n",
      "1378    South Africa\n",
      "1509    South Africa\n",
      "Name: REF_AREA_LABEL, dtype: object\n"
     ]
    }
   ],
   "source": [
    "print(south_africa_water['REF_AREA_LABEL'].head())"
   ]
  },
  {
   "cell_type": "code",
   "execution_count": 28,
   "id": "37e14d31-80a4-4865-ae9c-605918bad9eb",
   "metadata": {},
   "outputs": [
    {
     "name": "stdout",
     "output_type": "stream",
     "text": [
      "     REF_AREA_LABEL  TIME_PERIOD  OBS_VALUE\n",
      "183    South Africa         1990  14.955271\n",
      "403    South Africa         1991  14.925265\n",
      "648    South Africa         1992  14.895259\n",
      "901    South Africa         1993  14.865253\n",
      "1154   South Africa         1994  14.835247\n"
     ]
    }
   ],
   "source": [
    "forest_sa = south_africa_forest[['REF_AREA_LABEL',\n",
    "                                 'TIME_PERIOD',\n",
    "                                 'OBS_VALUE']].copy()\n",
    "\n",
    "# make TIME_PERIOD integer\n",
    "forest_sa['TIME_PERIOD'] = forest_sa['TIME_PERIOD'].astype(int)\n",
    "\n",
    "print(forest_sa.head())"
   ]
  },
  {
   "cell_type": "code",
   "execution_count": 30,
   "id": "d3841aac-d70d-4761-ba3d-5f439fc5c748",
   "metadata": {},
   "outputs": [
    {
     "name": "stdout",
     "output_type": "stream",
     "text": [
      "     REF_AREA_LABEL  TIME_PERIOD  OBS_VALUE\n",
      "1022   South Africa         1990  29.667411\n",
      "1131   South Africa         1991  29.485714\n",
      "1249   South Africa         1992  29.304018\n",
      "1378   South Africa         1993  29.122321\n",
      "1509   South Africa         1994  28.940625\n"
     ]
    }
   ],
   "source": [
    "water_sa = south_africa_water[['REF_AREA_LABEL',\n",
    "                                 'TIME_PERIOD',\n",
    "                                 'OBS_VALUE']].copy()\n",
    "\n",
    "# make TIME_PERIOD integer\n",
    "water_sa['TIME_PERIOD'] = water_sa['TIME_PERIOD'].astype(int)\n",
    "\n",
    "print(water_sa.head())"
   ]
  },
  {
   "cell_type": "markdown",
   "id": "2cd6cb76-679b-40c6-9d19-4d5cae8969de",
   "metadata": {},
   "source": [
    "print(water_sa.columns.tolist())\n",
    "print(water_sa.head(10))"
   ]
  },
  {
   "cell_type": "code",
   "execution_count": 34,
   "id": "0a21385e-fe37-4e04-a136-52bc53f36cb8",
   "metadata": {},
   "outputs": [
    {
     "name": "stdout",
     "output_type": "stream",
     "text": [
      "Missing values in forest_sa:\n",
      "REF_AREA_LABEL    0\n",
      "TIME_PERIOD       0\n",
      "OBS_VALUE         0\n",
      "dtype: int64\n",
      "\n",
      "Missing values in water_sa:\n",
      "REF_AREA_LABEL    0\n",
      "TIME_PERIOD       0\n",
      "OBS_VALUE         0\n",
      "dtype: int64\n"
     ]
    }
   ],
   "source": [
    "print(\"Missing values in forest_sa:\")\n",
    "print(forest_sa.isna().sum())\n",
    "\n",
    "print(\"\\nMissing values in water_sa:\")\n",
    "print(water_sa.isna().sum())"
   ]
  },
  {
   "cell_type": "code",
   "execution_count": 36,
   "id": "3f9136fb-e560-4174-9eaa-1f5530d48be0",
   "metadata": {},
   "outputs": [
    {
     "name": "stdout",
     "output_type": "stream",
     "text": [
      "Forest missing years: []\n",
      "Water missing years: []\n"
     ]
    }
   ],
   "source": [
    "# Forest dataset years\n",
    "forest_years = set(forest_sa['TIME_PERIOD'].unique())\n",
    "forest_full_range = set(range(forest_sa['TIME_PERIOD'].min(),\n",
    "                              forest_sa['TIME_PERIOD'].max() + 1))\n",
    "forest_missing_years = sorted(forest_full_range - forest_years)\n",
    "\n",
    "# Water dataset years\n",
    "water_years = set(water_sa['TIME_PERIOD'].unique())\n",
    "water_full_range = set(range(water_sa['TIME_PERIOD'].min(),\n",
    "                             water_sa['TIME_PERIOD'].max() + 1))\n",
    "water_missing_years = sorted(water_full_range - water_years)\n",
    "\n",
    "print(\"Forest missing years:\", forest_missing_years)\n",
    "print(\"Water missing years:\", water_missing_years)\n"
   ]
  },
  {
   "cell_type": "code",
   "execution_count": 38,
   "id": "075fc971-4580-42af-8e02-4da19428c9fa",
   "metadata": {},
   "outputs": [
    {
     "name": "stdout",
     "output_type": "stream",
     "text": [
      "        Country  Year  Forest_Value  Water_Value\n",
      "0  South Africa  1990     14.955271    29.667411\n",
      "1  South Africa  1991     14.925265    29.485714\n",
      "2  South Africa  1992     14.895259    29.304018\n",
      "3  South Africa  1993     14.865253    29.122321\n",
      "4  South Africa  1994     14.835247    28.940625\n"
     ]
    }
   ],
   "source": [
    "import pandas as pd\n",
    "\n",
    "# Now you can merge safely\n",
    "merge_df = pd.merge(\n",
    "    forest_sa,\n",
    "    water_sa,\n",
    "    on=['REF_AREA_LABEL', 'TIME_PERIOD'],\n",
    "    suffixes=('_forest', '_water')  # make names clear\n",
    ")\n",
    "\n",
    "# Rename columns for clarity\n",
    "merge_df = merge_df.rename(columns={\n",
    "    'REF_AREA_LABEL': 'Country',\n",
    "    'TIME_PERIOD': 'Year',\n",
    "    'OBS_VALUE_forest': 'Forest_Value',\n",
    "    'OBS_VALUE_water': 'Water_Value'\n",
    "})\n",
    "\n",
    "# Preview merged data\n",
    "print(merge_df.head())\n"
   ]
  },
  {
   "cell_type": "code",
   "execution_count": 40,
   "id": "ca4c455f-cf27-4130-bf29-bc9038a305cd",
   "metadata": {},
   "outputs": [
    {
     "name": "stdout",
     "output_type": "stream",
     "text": [
      "Shape of the merged DataFrame: (32, 4)\n",
      "Number of rows (data points): 32\n",
      "Number of columns (variables): 4\n"
     ]
    }
   ],
   "source": [
    "# Check the shape: (Rows, Columns)\n",
    "print(\"Shape of the merged DataFrame:\", merge_df.shape)\n",
    "print(\"Number of rows (data points):\", merge_df.shape[0])\n",
    "print(\"Number of columns (variables):\", merge_df.shape[1])"
   ]
  },
  {
   "cell_type": "code",
   "execution_count": 42,
   "id": "d2c02d56-1fdb-452b-9e42-bd17f60e4dc0",
   "metadata": {},
   "outputs": [
    {
     "name": "stdout",
     "output_type": "stream",
     "text": [
      "['Country', 'Year', 'Forest_Value', 'Water_Value']\n"
     ]
    }
   ],
   "source": [
    "print(merge_df.columns.tolist())\n"
   ]
  },
  {
   "cell_type": "code",
   "execution_count": 44,
   "id": "611048d0-da5e-4c4b-b737-3db15ccce000",
   "metadata": {},
   "outputs": [
    {
     "data": {
      "text/html": [
       "<div>\n",
       "<style scoped>\n",
       "    .dataframe tbody tr th:only-of-type {\n",
       "        vertical-align: middle;\n",
       "    }\n",
       "\n",
       "    .dataframe tbody tr th {\n",
       "        vertical-align: top;\n",
       "    }\n",
       "\n",
       "    .dataframe thead th {\n",
       "        text-align: right;\n",
       "    }\n",
       "</style>\n",
       "<table border=\"1\" class=\"dataframe\">\n",
       "  <thead>\n",
       "    <tr style=\"text-align: right;\">\n",
       "      <th></th>\n",
       "      <th>Year</th>\n",
       "      <th>Forest_Value</th>\n",
       "      <th>Water_Value</th>\n",
       "    </tr>\n",
       "  </thead>\n",
       "  <tbody>\n",
       "    <tr>\n",
       "      <th>count</th>\n",
       "      <td>32.000000</td>\n",
       "      <td>32.000000</td>\n",
       "      <td>32.000000</td>\n",
       "    </tr>\n",
       "    <tr>\n",
       "      <th>mean</th>\n",
       "      <td>2005.500000</td>\n",
       "      <td>14.490178</td>\n",
       "      <td>33.528251</td>\n",
       "    </tr>\n",
       "    <tr>\n",
       "      <th>std</th>\n",
       "      <td>9.380832</td>\n",
       "      <td>0.281481</td>\n",
       "      <td>5.986354</td>\n",
       "    </tr>\n",
       "    <tr>\n",
       "      <th>min</th>\n",
       "      <td>1990.000000</td>\n",
       "      <td>14.025085</td>\n",
       "      <td>28.421875</td>\n",
       "    </tr>\n",
       "    <tr>\n",
       "      <th>25%</th>\n",
       "      <td>1997.750000</td>\n",
       "      <td>14.257631</td>\n",
       "      <td>29.076897</td>\n",
       "    </tr>\n",
       "    <tr>\n",
       "      <th>50%</th>\n",
       "      <td>2005.500000</td>\n",
       "      <td>14.490178</td>\n",
       "      <td>31.034942</td>\n",
       "    </tr>\n",
       "    <tr>\n",
       "      <th>75%</th>\n",
       "      <td>2013.250000</td>\n",
       "      <td>14.722725</td>\n",
       "      <td>34.784856</td>\n",
       "    </tr>\n",
       "    <tr>\n",
       "      <th>max</th>\n",
       "      <td>2021.000000</td>\n",
       "      <td>14.955271</td>\n",
       "      <td>46.629464</td>\n",
       "    </tr>\n",
       "  </tbody>\n",
       "</table>\n",
       "</div>"
      ],
      "text/plain": [
       "              Year  Forest_Value  Water_Value\n",
       "count    32.000000     32.000000    32.000000\n",
       "mean   2005.500000     14.490178    33.528251\n",
       "std       9.380832      0.281481     5.986354\n",
       "min    1990.000000     14.025085    28.421875\n",
       "25%    1997.750000     14.257631    29.076897\n",
       "50%    2005.500000     14.490178    31.034942\n",
       "75%    2013.250000     14.722725    34.784856\n",
       "max    2021.000000     14.955271    46.629464"
      ]
     },
     "execution_count": 44,
     "metadata": {},
     "output_type": "execute_result"
    }
   ],
   "source": [
    "merge_df.describe()\n"
   ]
  },
  {
   "cell_type": "markdown",
   "id": "f165d7bc-18a0-4762-a351-20fce1d8a403",
   "metadata": {},
   "source": [
    "# NUMERICAL ANALYSIS (20 MARKS)"
   ]
  },
  {
   "cell_type": "code",
   "execution_count": 46,
   "id": "a4f6f34c-2ded-4184-b3e6-71c59d6e8050",
   "metadata": {},
   "outputs": [],
   "source": [
    "import numpy as np \n",
    "forest_array = np.array(merge_df['Forest_Value'])\n",
    "water_array = np.array(merge_df['Water_Value'])"
   ]
  },
  {
   "cell_type": "code",
   "execution_count": 48,
   "id": "50cc3717-bd91-4635-9509-d263b886146a",
   "metadata": {},
   "outputs": [
    {
     "name": "stdout",
     "output_type": "stream",
     "text": [
      "Variable         Mean    Std Dev   Variance\n",
      "---------------------------------------------\n",
      "Forest         14.490      0.277      0.077\n",
      "Water          33.528      5.892     34.717\n"
     ]
    }
   ],
   "source": [
    "import numpy as np\n",
    "\n",
    "# Create a dictionary of arrays\n",
    "data = {\n",
    "    'Forest': forest_array,\n",
    "    'Water': water_array\n",
    "}\n",
    "\n",
    "# Print table header\n",
    "print(f\"{'Variable':<10} {'Mean':>10} {'Std Dev':>10} {'Variance':>10}\")\n",
    "print(\"-\" * 45)\n",
    "\n",
    "# Calculate and print statistics for each variable\n",
    "for var_name, array in data.items():\n",
    "    mean = np.mean(array)\n",
    "    std = np.std(array)\n",
    "    var = np.var(array)\n",
    "    print(f\"{var_name:<10} {mean:>10.3f} {std:>10.3f} {var:>10.3f}\")\n"
   ]
  },
  {
   "cell_type": "code",
   "execution_count": 50,
   "id": "0ca62185-2efc-4f62-8c4d-84c2a2aa8024",
   "metadata": {},
   "outputs": [
    {
     "name": "stdout",
     "output_type": "stream",
     "text": [
      "Correlation Coefficient between Forest and Water: -0.8693799496013376\n"
     ]
    }
   ],
   "source": [
    "# Calculate correlation coefficient matrix\n",
    "corr_matrix = np.corrcoef(forest_array, water_array)\n",
    "\n",
    "# The correlation coefficient between Forest and Water\n",
    "corr_coef = corr_matrix[0, 1]\n",
    "\n",
    "print(\"Correlation Coefficient between Forest and Water:\", corr_coef)"
   ]
  },
  {
   "cell_type": "code",
   "execution_count": 52,
   "id": "78b0b558-c90e-4d4d-ae61-5dde516ef820",
   "metadata": {},
   "outputs": [
    {
     "name": "stdout",
     "output_type": "stream",
     "text": [
      "Correlation Coefficient between Forest and Water: -0.8693799496013376\n"
     ]
    },
    {
     "data": {
      "image/png": "[encoded data removed]",
      "text/plain": [
       "<Figure size 700x500 with 1 Axes>"
      ]
     },
     "metadata": {},
     "output_type": "display_data"
    }
   ],
   "source": [
    "import numpy as np\n",
    "import matplotlib.pyplot as plt\n",
    "\n",
    "# Flatten arrays to 1D if needed\n",
    "forest_array_1d = np.array(merge_df['Forest_Value']).ravel()\n",
    "water_array_1d = np.array(merge_df['Water_Value']).ravel()\n",
    "\n",
    "# Calculate correlation coefficient\n",
    "corr_matrix = np.corrcoef(forest_array_1d, water_array_1d)\n",
    "corr_coef = corr_matrix[0, 1]\n",
    "print(\"Correlation Coefficient between Forest and Water:\", corr_coef)\n",
    "\n",
    "# Scatter plot\n",
    "plt.figure(figsize=(7,5))\n",
    "plt.scatter(forest_array_1d, water_array_1d, color='green', edgecolor='black', alpha=0.7)\n",
    "plt.title(f'Forest vs Water (Correlation = {corr_coef:.3f})')\n",
    "plt.xlabel('Forest Value')\n",
    "plt.ylabel('Water Value')\n",
    "plt.grid(True)\n",
    "plt.show()\n"
   ]
  },
  {
   "cell_type": "markdown",
   "id": "49633f47-8079-4478-8ddd-1c825cbeb356",
   "metadata": {},
   "source": [
    "# The correlation coefficient of -0.869 suggests a weak negative relationship between forest area and freshwater withdrawals.\n",
    "\n",
    "# This indicates a slight tendency for freshwater withdrawals to decrease as forest area increases, but the relationship is not strong.\n"
   ]
  },
  {
   "cell_type": "code",
   "execution_count": null,
   "id": "c1e9248b-c40a-4b80-8ae6-088afd41776d",
   "metadata": {},
   "outputs": [],
   "source": [
    "\n"
   ]
  },
  {
   "cell_type": "markdown",
   "id": "c2fbf5bd-753a-466f-be07-e46074293d89",
   "metadata": {},
   "source": [
    "# VISUALIZATION(20 MARKS)"
   ]
  },
  {
   "cell_type": "code",
   "execution_count": 61,
   "id": "9387631b-9596-4ed2-a1ef-f4793f4e45e5",
   "metadata": {},
   "outputs": [
    {
     "data": {
      "image/png": "[encoded data removed]",
      "text/plain": [
       "<Figure size 1000x500 with 1 Axes>"
      ]
     },
     "metadata": {},
     "output_type": "display_data"
    }
   ],
   "source": [
    "import matplotlib.pyplot as plt\n",
    "\n",
    "plt.figure(figsize=(10, 5))\n",
    "plt.plot(merge_df['Year'], merge_df['Forest_Value'], label='Forest Area (%)')\n",
    "plt.plot(merge_df['Year'], merge_df['Water_Value'], label='Water Withdrawals (%)')\n",
    "plt.xlabel('Year')\n",
    "plt.ylabel('Percentage')\n",
    "plt.title('Forest Area vs Water Withdrawals Over Time')\n",
    "plt.legend()\n",
    "plt.grid(True)\n",
    "plt.show()\n"
   ]
  },
  {
   "cell_type": "code",
   "execution_count": 63,
   "id": "4084c71c-6463-4799-82d2-66e28b56cbe4",
   "metadata": {},
   "outputs": [
    {
     "data": {
      "image/png": "[encoded data removed]",
      "text/plain": [
       "<Figure size 800x600 with 1 Axes>"
      ]
     },
     "metadata": {},
     "output_type": "display_data"
    }
   ],
   "source": [
    "plt.figure(figsize=(8, 6))\n",
    "plt.scatter(merge_df['Forest_Value'], merge_df['Water_Value'])\n",
    "plt.xlabel('Forest Area (% of Land Area)')\n",
    "plt.ylabel('Freshwater Withdrawals (% of Resources)')\n",
    "plt.title('Correlation between Forest Cover and Water Stress in South Africa')\n",
    "plt.show()"
   ]
  },
  {
   "cell_type": "markdown",
   "id": "a3c15434-4622-460d-9c67-2ea3ca32160e",
   "metadata": {},
   "source": [
    "#  The line plot shows that while forest area has slightly decreased over time, freshwater withdrawals have increased, trending differently.\n",
    "#  The scatter plot shows a dispersed pattern,\n",
    "#  supporting our earlier correlation finding of -0.869, which indicates a weak negative relationship between forest area and freshwater withdrawals"
   ]
  },
  {
   "cell_type": "code",
   "execution_count": 66,
   "id": "5d9e91b0-df4e-44af-9c3e-6018c16293cb",
   "metadata": {},
   "outputs": [
    {
     "data": {
      "image/png": "[encoded data removed]",
      "text/plain": [
       "<Figure size 1400x600 with 2 Axes>"
      ]
     },
     "metadata": {},
     "output_type": "display_data"
    }
   ],
   "source": [
    "import pandas as pd\n",
    "import matplotlib.pyplot as plt\n",
    "import seaborn as sns\n",
    "\n",
    "# Set style\n",
    "sns.set_style(\"whitegrid\")\n",
    "plt.figure(figsize=(14, 6))\n",
    "\n",
    "# Boxplot for Forest Value\n",
    "plt.subplot(1, 2, 1)  # 1 row, 2 cols, first plot\n",
    "sns.boxplot(\n",
    "    y=merge_df['Forest_Value'], \n",
    "    color=\"green\",\n",
    "    linewidth=2.2,\n",
    "    width=0.4,\n",
    "    showmeans=True,\n",
    "    meanprops={\"marker\":\"o\",\n",
    "               \"markerfacecolor\":\"red\", \n",
    "               \"markeredgecolor\":\"black\",\n",
    "               \"markersize\":\"8\"}\n",
    ")\n",
    "plt.title(\"Distribution of Forest Area (%)\", fontsize=14, fontweight=\"bold\", color=\"darkgreen\")\n",
    "plt.ylabel(\"Percentage (%)\", fontsize=12)\n",
    "\n",
    "#Boxplot for Water Value\n",
    "plt.subplot(1, 2, 2)  # 1 row, 2 cols, second plot\n",
    "sns.boxplot(\n",
    "    y=merge_df['Water_Value'], \n",
    "    color=\"blue\",\n",
    "    linewidth=2.2,\n",
    "    width=0.4,\n",
    "    showmeans=True,\n",
    "    meanprops={\"marker\":\"o\",\n",
    "               \"markerfacecolor\":\"red\", \n",
    "               \"markeredgecolor\":\"black\",\n",
    "               \"markersize\":\"8\"}\n",
    ")\n",
    "plt.title(\"Distribution of Freshwater Withdrawals (%)\", fontsize=14, fontweight=\"bold\", color=\"darkblue\")\n",
    "plt.ylabel(\"\")\n",
    "\n",
    "plt.tight_layout()\n",
    "plt.show()\n"
   ]
  },
  {
   "cell_type": "code",
   "execution_count": null,
   "id": "2cc4862f-e506-4738-a992-bfa79904725d",
   "metadata": {},
   "outputs": [],
   "source": [
    "\n"
   ]
  },
  {
   "cell_type": "markdown",
   "id": "09642a98-3805-4c26-8d77-acebf8aa5a92",
   "metadata": {},
   "source": [
    "# database integration (20 msrks)"
   ]
  },
  {
   "cell_type": "code",
   "execution_count": 70,
   "id": "aa1ded23-44d5-4490-bebd-c060842fef24",
   "metadata": {},
   "outputs": [
    {
     "name": "stdout",
     "output_type": "stream",
     "text": [
      "✅ Merged DataFrame:\n",
      "        Country  Year  Forest_Value  Water_Value\n",
      "0  South Africa  1990     14.955271    29.667411\n",
      "1  South Africa  1991     14.925265    29.485714\n",
      "2  South Africa  1992     14.895259    29.304018\n",
      "3  South Africa  1993     14.865253    29.122321\n",
      "4  South Africa  1994     14.835247    28.940625\n",
      "✅ Data inserted into environment table successfully!\n"
     ]
    }
   ],
   "source": [
    "import pandas as pd\n",
    "import sqlite3\n",
    "\n",
    "# Example: Recreate merge_df (make sure forest_sa and water_sa exist first)\n",
    "merge_df = pd.merge(\n",
    "    forest_sa,\n",
    "    water_sa,\n",
    "    on=['REF_AREA_LABEL', 'TIME_PERIOD'],\n",
    "    suffixes=('_forest', '_water')\n",
    ")\n",
    "\n",
    "# Rename columns for clarity\n",
    "merge_df = merge_df.rename(columns={\n",
    "    'REF_AREA_LABEL': 'Country',\n",
    "    'TIME_PERIOD': 'Year',\n",
    "    'OBS_VALUE_forest': 'Forest_Value',\n",
    "    'OBS_VALUE_water': 'Water_Value'\n",
    "})\n",
    "\n",
    "print(\" Merged DataFrame:\")\n",
    "print(merge_df.head())\n",
    "\n",
    "#  Save into SQLite\n",
    "conn = sqlite3.connect(\"environment.db\")\n",
    "c = conn.cursor()\n",
    "\n",
    "# Create table\n",
    "c.execute('''\n",
    "    CREATE TABLE IF NOT EXISTS environment (\n",
    "        year INTEGER PRIMARY KEY,\n",
    "        forest_area REAL,\n",
    "        water_withdrawals REAL\n",
    "    )\n",
    "''')\n",
    "\n",
    "# Insert data\n",
    "for index, row in merge_df.iterrows():\n",
    "    c.execute(\"\"\"\n",
    "        INSERT OR REPLACE INTO environment (year, forest_area, water_withdrawals) \n",
    "        VALUES (?, ?, ?)\n",
    "    \"\"\", (row['Year'], row['Forest_Value'], row['Water_Value']))\n",
    "\n",
    "# Commit and close\n",
    "conn.commit()\n",
    "conn.close()\n",
    "\n",
    "print(\" Data inserted into environment table successfully!\")\n"
   ]
  },
  {
   "cell_type": "code",
   "execution_count": 72,
   "id": "ad2695ad-3cd4-4294-9153-d6fb3db7ec48",
   "metadata": {},
   "outputs": [
    {
     "name": "stdout",
     "output_type": "stream",
     "text": [
      "    year  forest_area  water_withdrawals\n",
      "0   1990    14.955271          29.667411\n",
      "1   1991    14.925265          29.485714\n",
      "2   1992    14.895259          29.304018\n",
      "3   1993    14.865253          29.122321\n",
      "4   1994    14.835247          28.940625\n",
      "5   1995    14.805241          28.758929\n",
      "6   1996    14.775235          28.709821\n",
      "7   1997    14.745229          28.660714\n",
      "8   1998    14.715223          28.611607\n",
      "9   1999    14.685217          28.562500\n",
      "10  2000    14.655211          28.421875\n",
      "11  2001    14.625205          28.896978\n",
      "12  2002    14.595199          29.372081\n",
      "13  2003    14.565193          29.847184\n",
      "14  2004    14.535187          30.322287\n",
      "15  2005    14.505181          30.797390\n",
      "16  2006    14.475175          31.272493\n",
      "17  2007    14.445169          31.747596\n",
      "18  2008    14.415163          32.222699\n",
      "19  2009    14.385157          32.697802\n",
      "20  2010    14.355151          33.172905\n",
      "21  2011    14.325145          33.648008\n",
      "22  2012    14.295139          34.123111\n",
      "23  2013    14.265133          31.888393\n",
      "24  2014    14.235127          36.770089\n",
      "25  2015    14.205121          41.651786\n",
      "26  2016    14.175115          42.522321\n",
      "27  2017    14.145109          43.258929\n",
      "28  2018    14.115103          43.839286\n",
      "29  2019    14.085097          44.642857\n",
      "30  2020    10.000000          45.334821\n",
      "31  2021    14.025085          46.629464\n"
     ]
    }
   ],
   "source": [
    "conn = sqlite3.connect('south_africa_data.db')\n",
    "query_result = pd.read_sql_query(\"SELECT * FROM environment WHERE water_withdrawals > 25\", conn)\n",
    "conn.close()\n",
    "print(query_result)"
   ]
  },
  {
   "cell_type": "code",
   "execution_count": 76,
   "id": "56695e8c-c001-48e3-a40f-ab0f9d6ab1dd",
   "metadata": {},
   "outputs": [
    {
     "name": "stdout",
     "output_type": "stream",
     "text": [
      "Before update: [(2020, 10.0, 45.33482142857143)]\n",
      "After update: [(2020, 30.0, 45.33482142857143)]\n"
     ]
    }
   ],
   "source": [
    "#Safely update forest_area for the year 2020\n",
    "import sqlite3\n",
    "\n",
    "#  Connect to the database\n",
    "conn = sqlite3.connect('south_africa_data.db')  # replace with your DB path\n",
    "c = conn.cursor()\n",
    "\n",
    "#  Preview rows before updating\n",
    "c.execute(\"SELECT * FROM environment WHERE year = 2020;\")\n",
    "print(\"Before update:\", c.fetchall())\n",
    "\n",
    "# Safely update forest_area for year 2020\n",
    "c.execute(\"\"\"\n",
    "    UPDATE environment\n",
    "    SET forest_area = 30\n",
    "    WHERE year = 2020;\n",
    "\"\"\")\n",
    "\n",
    "#  Commit changes\n",
    "conn.commit()\n",
    "\n",
    "#  Verify the update\n",
    "c.execute(\"SELECT * FROM environment WHERE year = 2020;\")\n",
    "print(\"After update:\", c.fetchall())\n",
    "\n",
    "#  Close the connection (do this last)\n",
    "conn.close()\n",
    "\n"
   ]
  },
  {
   "cell_type": "code",
   "execution_count": null,
   "id": "8f4cc0c0-8003-4c4c-ab1b-4997031bc15e",
   "metadata": {},
   "outputs": [],
   "source": []
  },
  {
   "cell_type": "markdown",
   "id": "8012f5ad-0dc3-425d-bb88-706950b79fb5",
   "metadata": {},
   "source": [
    "# PYTHON/EXCEL DATA ANALYSIS (15 MARKS)"
   ]
  },
  {
   "cell_type": "markdown",
   "id": "6f3f0f46-a872-4113-bdf0-c79d12789236",
   "metadata": {},
   "source": [
    "w()w()ntage\")\n",
    "plt.show()\n"
   ]
  },
  {
   "cell_type": "code",
   "execution_count": null,
   "id": "5a368034-0781-4558-b6e6-89287b8ba8c0",
   "metadata": {},
   "outputs": [],
   "source": [
    "import pandas as pd\n",
    "import numpy as np\n",
    "import matplotlib.pyplot as plt\n",
    "import seaborn as sns\n",
    "\n",
    "\n",
    "forest_df = pd.read_csv(r\"C:\\Users\\Admin\\Downloads\\Data analysis assignment\\Forest area.csv\",header=0)\n",
    "water_df = pd.read_csv(r\"C:\\Users\\Admin\\Downloads\\Data analysis assignment\\Freshwater withdrawals.csv\",header=0)\n",
    "\n",
    "\n",
    "forest = forest[[\"TIME_PERIOD\", \"OBS_VALUE\"]].rename(\n",
    "    columns={\"TIME_PERIOD\": \"Year\", \"OBS_VALUE\": \"Forest_Area_%\"}\n",
    ")\n",
    "\n",
    "water = water[[\"TIME_PERIOD\", \"OBS_VALUE\"]].rename(\n",
    "    columns={\"TIME_PERIOD\": \"Year\", \"OBS_VALUE\": \"Water_Withdrawal_%\"}\n",
    ")\n",
    "\n",
    "forest[\"Year\"] = forest[\"Year\"].astype(int)\n",
    "water[\"Year\"] = water[\"Year\"].astype(int)\n",
    "\n",
    "print(\"\\nDescriptive Statistics:\")\n",
    "print(data.describe())\n",
    "\n",
    "data[\"Forest_Change_%\"] = data[\"Forest_Area_%\"].pct_change() * 100\n",
    "data[\"Water_Change_%\"] = data[\"Water_Withdrawal_%\"].pct_change() * 100\n",
    "\n",
    "correlation = data[[\"Forest_Area_%\", \"Water_Withdrawal_%\"]].corr()\n",
    "print(\"\\nCorrelation between Forest Area and Water Withdrawals:\")\n",
    "print(correlation)\n",
    "\n",
    "\n",
    "# Merge by Year\n",
    "data = pd.merge(forest, water, on=\"TIME_PERIOD\", how=\"inner\")\n",
    "\n",
    "\n",
    "data[\"Decade\"] = (data[\"Year\"] // 10) * 10\n",
    "decade_summary = data.groupby(\"Decade\")[[\"Forest_Area_%\", \"Water_Withdrawal_%\"]].mean()\n",
    "print(\"\\nDecade summary (average per decade):\")\n",
    "print(decade_summary)\n",
    "\n",
    "\n",
    "decade_summary.plot(kind=\"bar\")\n",
    "plt.title(\"Decade Averages: Forest Area vs Water Withdrawals\")\n",
    "plt.ylabel(\"Percentage\")\n",
    "plt.show()\n",
    "\n",
    "plt.figure(figsize=(8,6))\n",
    "sns.regplot(x=\"Water_Withdrawal_%\", y=\"Forest_Area_%\", data=data)\n",
    "plt.title(\"Relationship between Water Withdrawals and Forest Area\")\n",
    "plt.show()\n",
    "\n",
    "decade_summary.plot(kind=\"bar\", figsize=(8,6))\n",
    "plt.title(\"Decade Averages: Forest Area vs Water Withdrawals\")\n",
    "plt.ylabel(\"Percentage\")\n",
    "plt.xlabel(\"Decade\")\n",
    "plt.show()\n"
   ]
  }
 ],
 "metadata": {
  "kernelspec": {
   "display_name": "Python 3 (ipykernel)",
   "language": "python",
   "name": "python3"
  },
  "language_info": {
   "codemirror_mode": {
    "name": "ipython",
    "version": 3
   },
   "file_extension": ".py",
   "mimetype": "text/x-python",
   "name": "python",
   "nbconvert_exporter": "python",
   "pygments_lexer": "ipython3",
   "version": "3.12.4"
  }
 },
 "nbformat": 4,
 "nbformat_minor": 5
}
